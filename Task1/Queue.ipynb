{
 "cells": [
  {
   "cell_type": "code",
   "execution_count": 1,
   "metadata": {},
   "outputs": [
    {
     "name": "stdout",
     "output_type": "stream",
     "text": [
      "pygame 2.1.2 (SDL 2.0.18, Python 3.8.3)\n",
      "Hello from the pygame community. https://www.pygame.org/contribute.html\n"
     ]
    }
   ],
   "source": [
    "from env import *"
   ]
  },
  {
   "cell_type": "code",
   "execution_count": 2,
   "metadata": {},
   "outputs": [],
   "source": [
    "\n",
    "class Queue:\n",
    "    \"\"\"\n",
    "    Queue for BFS\n",
    "    \"\"\"\n",
    "    def __init__(self):\n",
    "        self.nodes = []\n",
    "        self.frontier = set()\n",
    "\n",
    "    def __eq__(self, other):\n",
    "        return self.nodes == other.nodes\n",
    "    \n",
    "    def empty(self):\n",
    "        return len(self.nodes) == 0\n",
    "\n",
    "    def add(self, node:Node):\n",
    "        \"\"\"\n",
    "        adding node to queue\n",
    "\n",
    "        node: node to be added --> Node\n",
    "        \"\"\"\n",
    "        if not isinstance(node, Node):\n",
    "            raise TypeError(\"Insert object should be a Node instance\")\n",
    "        self.nodes.append(node)\n",
    "    \n",
    "    def remove(self):\n",
    "        if self.empty():\n",
    "            raise ValueError(\"Empty queue\")\n",
    "        node = self.nodes[0]\n",
    "        self.nodes = self.nodes[1:]\n",
    "        return node"
   ]
  },
  {
   "cell_type": "code",
   "execution_count": null,
   "metadata": {},
   "outputs": [],
   "source": []
  }
 ],
 "metadata": {
  "kernelspec": {
   "display_name": "Python 3",
   "language": "python",
   "name": "python3"
  },
  "language_info": {
   "codemirror_mode": {
    "name": "ipython",
    "version": 3
   },
   "file_extension": ".py",
   "mimetype": "text/x-python",
   "name": "python",
   "nbconvert_exporter": "python",
   "pygments_lexer": "ipython3",
   "version": "3.8.3"
  }
 },
 "nbformat": 4,
 "nbformat_minor": 4
}
