{
 "cells": [
  {
   "cell_type": "markdown",
   "metadata": {
    "id": "1tgxpkDehkd6"
   },
   "source": [
    "# **Task 3**"
   ]
  },
  {
   "cell_type": "markdown",
   "metadata": {
    "id": "q1svRSx4-MJg"
   },
   "source": [
    "**Fashion MNIST dataset with neural network by using numpy**"
   ]
  },
  {
   "cell_type": "markdown",
   "metadata": {
    "id": "ZbJa1ERO8_6B"
   },
   "source": [
    "Importing dataset and applying preprocessing"
   ]
  },
  {
   "cell_type": "code",
   "execution_count": 1,
   "metadata": {
    "colab": {
     "base_uri": "https://localhost:8080/"
    },
    "executionInfo": {
     "elapsed": 9822,
     "status": "ok",
     "timestamp": 1660152557875,
     "user": {
      "displayName": "Zafer Zaarour",
      "userId": "02387290482505562049"
     },
     "user_tz": -60
    },
    "id": "lfyBJulQSlwi",
    "outputId": "d2bcacd3-81a1-43db-fb3d-6eedc6d9e439"
   },
   "outputs": [
    {
     "name": "stdout",
     "output_type": "stream",
     "text": [
      "(60000, 785)\n",
      "   label     0\n",
      "0      0  6000\n",
      "1      1  6000\n",
      "2      2  6000\n",
      "3      3  6000\n",
      "4      4  6000\n",
      "5      5  6000\n",
      "6      6  6000\n",
      "7      7  6000\n",
      "8      8  6000\n",
      "9      9  6000\n"
     ]
    }
   ],
   "source": [
    "import pandas as pd\n",
    "import numpy as np\n",
    "\n",
    "\n",
    "np.random.seed(42)\n",
    "data = pd.read_csv('fashion-mnist_train.csv')\n",
    "print(data.shape)\n",
    "data = data.sample(frac=1)\n",
    "print(data[['label']].groupby('label').size().reset_index())\n",
    "\n",
    "one_hot = pd.get_dummies(data['label'].unique())\n",
    "one_hot['label'] = one_hot.index\n",
    "\n",
    "data = pd.merge(data,one_hot)\n",
    "#data = data.drop('label',axis=1)\n",
    "data = data.sample(frac=1)\n",
    "\n",
    "data_train = data\n",
    "data_test = pd.read_csv('fashion-mnist_test.csv')\n",
    "data_test = pd.merge(data_test,one_hot)\n",
    "data_train.drop('label',axis=1,inplace=True)\n",
    "\n",
    "data_test.drop('label',axis=1,inplace=True)\n",
    "\n",
    "## Create the train and test set\n",
    "X_train = np.array(data_train.drop([0,1,2,3,4,5,6,7,8,9],axis=1).values)/255\n",
    "y_train = np.array(data_train[[0,1,2,3,4,5,6,7,8,9]].values)\n",
    "X_test = np.array(data_test.drop([0,1,2,3,4,5,6,7,8,9],axis=1).values)/255\n",
    "y_test = np.array(data_test[[0,1,2,3,4,5,6,7,8,9]].values)"
   ]
  },
  {
   "cell_type": "markdown",
   "metadata": {
    "id": "29zp25Gm9JKc"
   },
   "source": [
    "Implementing sigmoid and softmax and defining all the necessary parameters of neural network"
   ]
  },
  {
   "cell_type": "code",
   "execution_count": 2,
   "metadata": {
    "colab": {
     "base_uri": "https://localhost:8080/"
    },
    "executionInfo": {
     "elapsed": 4,
     "status": "ok",
     "timestamp": 1660152615916,
     "user": {
      "displayName": "Zafer Zaarour",
      "userId": "02387290482505562049"
     },
     "user_tz": -60
    },
    "id": "2gkXsZ6FSoXl",
    "outputId": "6e925a69-8ac5-4513-f268-6e73c679fb29"
   },
   "outputs": [
    {
     "name": "stdout",
     "output_type": "stream",
     "text": [
      "(784, 60000)\n",
      "(10, 60000)\n"
     ]
    }
   ],
   "source": [
    "X_train = X_train.T\n",
    "y_train = y_train.T\n",
    "print(X_train.shape)\n",
    "print(y_train.shape)\n",
    "X_test = X_test.T\n",
    "y_test = y_test.T\n",
    "\n",
    "def sigmoid(x):\n",
    "    return(1./(1+np.exp(-x)))\n",
    "\n",
    "def softmax(x): \n",
    "    \"\"\"Compute softmax values for each sets of scores in x.\"\"\" \n",
    "\n",
    "    e_x = np.exp(x - np.max(x)) \n",
    "\n",
    "    return (e_x / e_x.sum(axis=0)) \n",
    "\n",
    "import random\n",
    "random.seed(42)\n",
    "w1 = np.random.rand(128,784)/np.sqrt(784)\n",
    "b0 = np.zeros((128,1))/np.sqrt(784)\n",
    "w2 = np.random.rand(10,128)/np.sqrt(128)\n",
    "b1 = np.zeros((10,1))/np.sqrt(128)\n",
    "loss=[]\n",
    "batches = 1000\n",
    "\n",
    "lr = 0.1\n",
    "batch_size = 200\n",
    "beta = 0.9\n",
    "count = 0\n",
    "epochs = 25"
   ]
  },
  {
   "cell_type": "markdown",
   "metadata": {
    "id": "2nj0EWTP9ayS"
   },
   "source": [
    "Forward and backward pass with relevant loss function and optimiser and running the neural network to notice the accuracy on defined epochs"
   ]
  },
  {
   "cell_type": "code",
   "execution_count": 14,
   "metadata": {
    "colab": {
     "base_uri": "https://localhost:8080/"
    },
    "executionInfo": {
     "elapsed": 72784,
     "status": "ok",
     "timestamp": 1660152692515,
     "user": {
      "displayName": "Zafer Zaarour",
      "userId": "02387290482505562049"
     },
     "user_tz": -60
    },
    "id": "4BH0xgkNXsJg",
    "outputId": "4490b915-5e41-49cc-a4d7-0e39441e107b"
   },
   "outputs": [
    {
     "name": "stdout",
     "output_type": "stream",
     "text": [
      "Epoch:  0\n",
      "Testing Accuracy : 0.2\n",
      "Training Accuracy : 0.22213333333333332\n",
      "----------------------------------------\n",
      "Epoch:  1\n",
      "Testing Accuracy : 0.3264\n",
      "Training Accuracy : 0.1991\n",
      "----------------------------------------\n",
      "Epoch:  2\n",
      "Testing Accuracy : 0.2023\n",
      "Training Accuracy : 0.13721666666666665\n",
      "----------------------------------------\n",
      "Epoch:  3\n",
      "Testing Accuracy : 0.2683\n",
      "Training Accuracy : 0.18866666666666668\n",
      "----------------------------------------\n",
      "Epoch:  4\n",
      "Testing Accuracy : 0.2405\n",
      "Training Accuracy : 0.5350833333333334\n",
      "----------------------------------------\n",
      "Epoch:  5\n",
      "Testing Accuracy : 0.2375\n",
      "Training Accuracy : 0.5619833333333333\n",
      "----------------------------------------\n",
      "Epoch:  6\n",
      "Testing Accuracy : 0.2964\n",
      "Training Accuracy : 0.6157166666666667\n",
      "----------------------------------------\n",
      "Epoch:  7\n",
      "Testing Accuracy : 0.305\n",
      "Training Accuracy : 0.6490333333333334\n",
      "----------------------------------------\n",
      "Epoch:  8\n",
      "Testing Accuracy : 0.315\n",
      "Training Accuracy : 0.6442666666666667\n",
      "----------------------------------------\n",
      "Epoch:  9\n",
      "Testing Accuracy : 0.3095\n",
      "Training Accuracy : 0.6371666666666667\n",
      "----------------------------------------\n",
      "Epoch:  10\n",
      "Testing Accuracy : 0.3176\n",
      "Training Accuracy : 0.6331\n",
      "----------------------------------------\n",
      "Epoch:  11\n",
      "Testing Accuracy : 0.3779\n",
      "Training Accuracy : 0.6738\n",
      "----------------------------------------\n",
      "Epoch:  12\n",
      "Testing Accuracy : 0.1095\n",
      "Training Accuracy : 0.6487166666666667\n",
      "----------------------------------------\n",
      "Epoch:  13\n",
      "Testing Accuracy : 0.2999\n",
      "Training Accuracy : 0.6784166666666667\n",
      "----------------------------------------\n",
      "Epoch:  14\n",
      "Testing Accuracy : 0.3072\n",
      "Training Accuracy : 0.6613\n",
      "----------------------------------------\n",
      "Epoch:  15\n",
      "Testing Accuracy : 0.414\n",
      "Training Accuracy : 0.6049666666666667\n",
      "----------------------------------------\n",
      "Epoch:  16\n",
      "Testing Accuracy : 0.392\n",
      "Training Accuracy : 0.6754\n",
      "----------------------------------------\n",
      "Epoch:  17\n",
      "Testing Accuracy : 0.2031\n",
      "Training Accuracy : 0.6233\n",
      "----------------------------------------\n",
      "Epoch:  18\n",
      "Testing Accuracy : 0.1901\n",
      "Training Accuracy : 0.9548166666666666\n",
      "----------------------------------------\n",
      "Epoch:  19\n",
      "Testing Accuracy : 0.098\n",
      "Training Accuracy : 0.9465666666666667\n",
      "----------------------------------------\n",
      "Epoch:  20\n",
      "Testing Accuracy : 0.2021\n",
      "Training Accuracy : 0.6145333333333334\n",
      "----------------------------------------\n",
      "Epoch:  21\n",
      "Testing Accuracy : 0.2045\n",
      "Training Accuracy : 0.6212833333333333\n",
      "----------------------------------------\n",
      "Epoch:  22\n",
      "Testing Accuracy : 0.2033\n",
      "Training Accuracy : 0.9646833333333333\n",
      "----------------------------------------\n",
      "Epoch:  23\n",
      "Testing Accuracy : 0.3927\n",
      "Training Accuracy : 0.6074333333333334\n",
      "----------------------------------------\n",
      "Epoch:  24\n",
      "Testing Accuracy : 0.1994\n",
      "Training Accuracy : 0.9797833333333333\n",
      "----------------------------------------\n"
     ]
    }
   ],
   "source": [
    "loss_weight_dict = {\n",
    "    \n",
    "}\n",
    "### Forward Pass\n",
    "for i in range(epochs):\n",
    "#     if i%100==0:\n",
    "#         print('Epoch :',i)\n",
    "    permutation = np.random.permutation(X_train.shape[1])\n",
    "    X_train_shuffled = X_train[:, permutation]\n",
    "    Y_train_shuffled = y_train[:, permutation]\n",
    "    \n",
    "    for j in range(batches):\n",
    "        \n",
    "        begin = j * batch_size\n",
    "        end = min(begin + batch_size, X_train.shape[1] - 1)\n",
    "        if begin>end:\n",
    "            continue\n",
    "        X = X_train_shuffled[:, begin:end]\n",
    "        Y = Y_train_shuffled[:, begin:end]\n",
    "        m_batch = end - begin\n",
    "        x1 = sigmoid(w1@X+b0)\n",
    "        x2 = softmax(w2@x1+b1)\n",
    "        delta_2 = (x2-Y)\n",
    "        delta_1 = np.multiply(w2.T@delta_2, np.multiply(x1,1-x1))\n",
    "        if i==0 :\n",
    "            dW1 = delta_1@X.T\n",
    "            dW2 = delta_2@x1.T\n",
    "            db0 = np.sum(delta_1,axis=1,keepdims=True)\n",
    "            db1 = np.sum(delta_2,axis=1,keepdims=True)\n",
    "        else:\n",
    "            dW1_old = dW1\n",
    "            dW2_old = dW2\n",
    "            db0_old = db0\n",
    "            db1_old = db1\n",
    "            dW1 = delta_1@X.T\n",
    "            dW2 = delta_2@x1.T\n",
    "            db0 = np.sum(delta_1,axis=1,keepdims=True)\n",
    "            db1 = np.sum(delta_2,axis=1,keepdims=True)\n",
    "            ## Using the past gradients to calculate the present gradients\n",
    "            dW1 = (beta * dW1_old + (1. - beta) * dW1)\n",
    "            db0 = (beta * db0_old + (1. - beta) * db0)\n",
    "            dW2 = (beta * dW2_old + (1. - beta) * dW2)\n",
    "            db1 = (beta * db1_old + (1. - beta) * db1)\n",
    "\n",
    "\n",
    "        w1 = w1 - (1./m_batch)*(dW1)*lr\n",
    "        b0 = b0 - (1./m_batch)*(db0)*(lr)\n",
    "        w2 = w2 - (1./m_batch)*(dW2)*lr\n",
    "        b1 = b1 - (1./m_batch)*(db1)*(lr)\n",
    "    \n",
    "    x1 = sigmoid(w1@X_train+b0)\n",
    "    x2_train = softmax(w2@x1+b1)\n",
    "    x2_train_df = pd.DataFrame(x2_train)\n",
    "    x2_train_df = (x2_train_df == x2_train_df.max()).astype(int)\n",
    "    x2_train_df = x2_train_df.transpose()\n",
    "    x2_train_df = pd.merge(x2_train_df,one_hot)\n",
    "    x2_train_df = x2_train_df[['label']]\n",
    "    y_train_df = pd.merge(pd.DataFrame(y_train.T),one_hot)\n",
    "    x2_train_df['label_actual'] = y_train_df['label']\n",
    "    train_accuracy = np.sum(x2_train_df['label_actual']==x2_train_df['label'])/x2_train_df.shape[0]\n",
    "\n",
    "    \n",
    "#     print('Training Loss...')\n",
    "#     print(-np.mean(np.multiply(y_train,np.log(x2))))\n",
    "    add_loss = {\n",
    "        'loss' : -np.mean(np.multiply(y_train,np.log(x2_train))),\n",
    "        'weight_1' : w1,\n",
    "        'weight_2':w2,\n",
    "        'b0' : b0,\n",
    "        'b1': b1,\n",
    "        'train_accuracy': train_accuracy\n",
    "    }\n",
    "    \n",
    "    \n",
    "    \n",
    "    \n",
    "    \n",
    "    x1 = sigmoid(w1@X_test+b0)\n",
    "    x2_test = softmax(w2@x1+b1)\n",
    "    x2_test_df = pd.DataFrame(x2_test)\n",
    "    x2_test_df = (x2_test_df == x2_test_df.max()).astype(int)\n",
    "    x2_test_df = x2_test_df.transpose()\n",
    "    x2_test_df = pd.merge(x2_test_df,one_hot)\n",
    "    x2_test_df = x2_test_df[['label']]\n",
    "    y_test_df = pd.merge(pd.DataFrame(y_test.T),one_hot)\n",
    "    x2_test_df['label_actual'] = y_test_df['label']\n",
    "    test_accuracy = np.sum(x2_test_df['label_actual']==x2_test_df['label'])/x2_test_df.shape[0]\n",
    "    print('Epoch: ',i)\n",
    "\n",
    "    print('Testing Accuracy :',test_accuracy)\n",
    "    print('Training Accuracy :',train_accuracy)\n",
    "    print('----------------------------------------')\n",
    "    \n",
    "    \n",
    "    \n",
    "#     print('Testing Loss...')\n",
    "#     print(-np.mean(np.multiply(y_test,np.log(x2))))\n",
    "    \n",
    "    add_loss['testing_loss'] = -np.mean(np.multiply(y_test,np.log(x2_test)))\n",
    "    add_loss['test_accuracy'] = test_accuracy\n",
    "    loss_weight_dict[count] = add_loss\n",
    "    count = count + 1"
   ]
  },
  {
   "cell_type": "markdown",
   "metadata": {
    "id": "fyLK0Ns79yAV"
   },
   "source": [
    "Visualisation of training and testing accuracy "
   ]
  },
  {
   "cell_type": "code",
   "execution_count": null,
   "metadata": {
    "colab": {
     "base_uri": "https://localhost:8080/",
     "height": 279
    },
    "executionInfo": {
     "elapsed": 20,
     "status": "ok",
     "timestamp": 1659602406932,
     "user": {
      "displayName": "Sohaib Ahmad",
      "userId": "11976602630283017502"
     },
     "user_tz": -300
    },
    "id": "cnREYBFjXvQ8",
    "outputId": "d30355d2-faac-48fd-e2bb-dda014f289b9"
   },
   "outputs": [
    {
     "data": {
      "image/png": "[encoded data removed]",
      "text/plain": [
       "<Figure size 432x288 with 1 Axes>"
      ]
     },
     "metadata": {
      "needs_background": "light"
     },
     "output_type": "display_data"
    }
   ],
   "source": [
    "train_accuracy = []\n",
    "\n",
    "for i in range(len(loss_weight_dict)):\n",
    "    train_accuracy.append(loss_weight_dict[i]['train_accuracy'])\n",
    "import matplotlib.pyplot as plt\n",
    "plt.plot(train_accuracy)\n",
    "plt.xlabel('Epochs')\n",
    "plt.ylabel('Training Accuracy')\n",
    "plt.show()"
   ]
  },
  {
   "cell_type": "code",
   "execution_count": null,
   "metadata": {
    "colab": {
     "base_uri": "https://localhost:8080/",
     "height": 279
    },
    "executionInfo": {
     "elapsed": 18,
     "status": "ok",
     "timestamp": 1659602406934,
     "user": {
      "displayName": "Sohaib Ahmad",
      "userId": "11976602630283017502"
     },
     "user_tz": -300
    },
    "id": "___H-4HbXyiI",
    "outputId": "5a942aa7-5e7d-4516-f869-48153e1fd1e8"
   },
   "outputs": [
    {
     "data": {
      "image/png": "[encoded data removed]",
      "text/plain": [
       "<Figure size 432x288 with 1 Axes>"
      ]
     },
     "metadata": {
      "needs_background": "light"
     },
     "output_type": "display_data"
    }
   ],
   "source": [
    "test_accuracy = []\n",
    "\n",
    "for i in range(len(loss_weight_dict)):\n",
    "    test_accuracy.append(loss_weight_dict[i]['test_accuracy'])\n",
    "import matplotlib.pyplot as plt\n",
    "plt.plot(test_accuracy)\n",
    "plt.xlabel('Epochs')\n",
    "plt.ylabel('Testing Accuracy')\n",
    "plt.show()"
   ]
  },
  {
   "cell_type": "markdown",
   "metadata": {
    "id": "GhSCOD479w20"
   },
   "source": [
    "performance and final result of neural network on fashion mnsit dataset"
   ]
  },
  {
   "cell_type": "code",
   "execution_count": null,
   "metadata": {
    "colab": {
     "base_uri": "https://localhost:8080/"
    },
    "executionInfo": {
     "elapsed": 816,
     "status": "ok",
     "timestamp": 1659602407734,
     "user": {
      "displayName": "Sohaib Ahmad",
      "userId": "11976602630283017502"
     },
     "user_tz": -300
    },
    "id": "GDvTp5W9VnLf",
    "outputId": "30895f79-3937-479a-809f-d1f9083fc5a9"
   },
   "outputs": [
    {
     "name": "stdout",
     "output_type": "stream",
     "text": [
      "Test Accuracy : 0.414\n"
     ]
    }
   ],
   "source": [
    "index_max = test_accuracy.index(max(test_accuracy))\n",
    "weight_1 = loss_weight_dict[index_max]['weight_1']\n",
    "weight_2 = loss_weight_dict[index_max]['weight_2']\n",
    "b0 = loss_weight_dict[index_max]['b0']\n",
    "b1 = loss_weight_dict[index_max]['b1']\n",
    "test_data = pd.read_csv('/content/drive/My Drive/Dataset/fashion-mnist_test.csv')\n",
    "test_data_mod = pd.merge(test_data,one_hot)\n",
    "test_data_algo = test_data_mod.drop(['label',0,1,2,3,4,5,6,7,8,9],axis=1)\n",
    "test_vector = np.array(test_data_algo.values)\n",
    "test_vector = test_vector.T\n",
    "test_vector = test_vector/255\n",
    "x1 = sigmoid(weight_1@test_vector+b0)\n",
    "x2 = softmax(weight_2@x1+b1)\n",
    "x2_df = pd.DataFrame(x2)\n",
    "x2_df = (x2_df == x2_df.max()).astype(int)\n",
    "x2_df = x2_df.transpose()\n",
    "x2_df = pd.merge(x2_df,one_hot)\n",
    "x2_df['label_actual'] = test_data_mod['label']\n",
    "print('Test Accuracy :',np.sum(x2_df['label_actual']==x2_df['label'])/x2_df.shape[0])"
   ]
  },
  {
   "cell_type": "markdown",
   "metadata": {
    "id": "T-oiHP8QerR-"
   },
   "source": [
    "# **Task 4**"
   ]
  },
  {
   "cell_type": "markdown",
   "metadata": {
    "id": "dP7EO3VA-W2A"
   },
   "source": [
    "**CIFAR-10 dataset with neural network by using pytorch**"
   ]
  },
  {
   "cell_type": "markdown",
   "metadata": {
    "id": "A-2Uau-y-fLS"
   },
   "source": [
    "Importing libraries"
   ]
  },
  {
   "cell_type": "code",
   "execution_count": null,
   "metadata": {
    "id": "SpdJ0aQAdkye"
   },
   "outputs": [],
   "source": [
    "import torch\n",
    "import torchvision\n",
    "import torchvision.transforms as transforms"
   ]
  },
  {
   "cell_type": "markdown",
   "metadata": {
    "id": "v7r_rujA-k5D"
   },
   "source": [
    "Importing CIFAR-10 dataset"
   ]
  },
  {
   "cell_type": "code",
   "execution_count": null,
   "metadata": {
    "colab": {
     "base_uri": "https://localhost:8080/",
     "height": 101,
     "referenced_widgets": [
      "f6d8815358b140ddbeaac182130d0c33",
      "8a54aca6a7d44b08a540c52d258fbfc6",
      "9582fed719ca4944ad53446c69026970",
      "956bc957f52047659c76cf4d8d5e575c",
      "d1e4d3ae1d624a138be2c8c8dbc6b63d",
      "1965abe871294a0c81cdab6a7e9b76b6",
      "c58a125166154ec48cc9ead4a201a759",
      "a5fb312348d849cd8ee6f32281d794c4",
      "ce9504426c374ea8bbc1c697bee49532",
      "08e4ba8d979543aea22af2ce0b1e67d6",
      "2c7536934c5d4c48bc0163035f70a4fa"
     ]
    },
    "executionInfo": {
     "elapsed": 19256,
     "status": "ok",
     "timestamp": 1659602428675,
     "user": {
      "displayName": "Sohaib Ahmad",
      "userId": "11976602630283017502"
     },
     "user_tz": -300
    },
    "id": "RO36aY3vezjB",
    "outputId": "c3f0e570-4a41-4824-f675-a01fa724ea83"
   },
   "outputs": [
    {
     "name": "stdout",
     "output_type": "stream",
     "text": [
      "Downloading https://www.cs.toronto.edu/~kriz/cifar-10-python.tar.gz to ./data/cifar-10-python.tar.gz\n"
     ]
    },
    {
     "data": {
      "application/vnd.jupyter.widget-view+json": {
       "model_id": "f6d8815358b140ddbeaac182130d0c33",
       "version_major": 2,
       "version_minor": 0
      },
      "text/plain": [
       "  0%|          | 0/170498071 [00:00<?, ?it/s]"
      ]
     },
     "metadata": {},
     "output_type": "display_data"
    },
    {
     "name": "stdout",
     "output_type": "stream",
     "text": [
      "Extracting ./data/cifar-10-python.tar.gz to ./data\n",
      "Files already downloaded and verified\n"
     ]
    }
   ],
   "source": [
    "transform = transforms.Compose(\n",
    "    [transforms.ToTensor(),\n",
    "     transforms.Normalize((0.5, 0.5, 0.5), (0.5, 0.5, 0.5))])\n",
    "\n",
    "batch_size = 4\n",
    "\n",
    "trainset = torchvision.datasets.CIFAR10(root='./data', train=True,\n",
    "                                        download=True, transform=transform)\n",
    "trainloader = torch.utils.data.DataLoader(trainset, batch_size=batch_size,\n",
    "                                          shuffle=True, num_workers=2)\n",
    "\n",
    "testset = torchvision.datasets.CIFAR10(root='./data', train=False,\n",
    "                                       download=True, transform=transform)\n",
    "testloader = torch.utils.data.DataLoader(testset, batch_size=batch_size,\n",
    "                                         shuffle=False, num_workers=2)\n",
    "\n",
    "classes = ('plane', 'car', 'bird', 'cat',\n",
    "           'deer', 'dog', 'frog', 'horse', 'ship', 'truck')"
   ]
  },
  {
   "cell_type": "markdown",
   "metadata": {
    "id": "34sDZtAz-o4B"
   },
   "source": [
    "Analysing the classes of dataset"
   ]
  },
  {
   "cell_type": "code",
   "execution_count": null,
   "metadata": {
    "colab": {
     "base_uri": "https://localhost:8080/",
     "height": 155
    },
    "executionInfo": {
     "elapsed": 27,
     "status": "ok",
     "timestamp": 1659602428677,
     "user": {
      "displayName": "Sohaib Ahmad",
      "userId": "11976602630283017502"
     },
     "user_tz": -300
    },
    "id": "Ny6uGPmBe4AO",
    "outputId": "7ffab302-8955-4cb1-cba8-dac55e16622a"
   },
   "outputs": [
    {
     "data": {
      "image/png": "[encoded data removed]",
      "text/plain": [
       "<Figure size 432x288 with 1 Axes>"
      ]
     },
     "metadata": {
      "needs_background": "light"
     },
     "output_type": "display_data"
    },
    {
     "name": "stdout",
     "output_type": "stream",
     "text": [
      "horse deer  plane car  \n"
     ]
    }
   ],
   "source": [
    "import matplotlib.pyplot as plt\n",
    "import numpy as np\n",
    "\n",
    "# functions to show an image\n",
    "\n",
    "\n",
    "def imshow(img):\n",
    "    img = img / 2 + 0.5     # unnormalize\n",
    "    npimg = img.numpy()\n",
    "    plt.imshow(np.transpose(npimg, (1, 2, 0)))\n",
    "    plt.show()\n",
    "\n",
    "\n",
    "# get some random training images\n",
    "dataiter = iter(trainloader)\n",
    "images, labels = dataiter.next()\n",
    "\n",
    "# show images\n",
    "imshow(torchvision.utils.make_grid(images))\n",
    "# print labels\n",
    "print(' '.join(f'{classes[labels[j]]:5s}' for j in range(batch_size)))"
   ]
  },
  {
   "cell_type": "markdown",
   "metadata": {
    "id": "GzrsvkIF-t-S"
   },
   "source": [
    "Defining neural network by pytorch\n",
    "with convo and maxpooling and relu activation function\n"
   ]
  },
  {
   "cell_type": "code",
   "execution_count": null,
   "metadata": {
    "id": "hBgVPhUBe8Sl"
   },
   "outputs": [],
   "source": [
    "import torch.nn as nn\n",
    "import torch.nn.functional as F\n",
    "\n",
    "\n",
    "class Net(nn.Module):\n",
    "    def __init__(self):\n",
    "        super().__init__()\n",
    "        self.conv1 = nn.Conv2d(3, 6, 5)\n",
    "        self.pool = nn.MaxPool2d(2, 2)\n",
    "        self.conv2 = nn.Conv2d(6, 16, 5)\n",
    "        self.fc1 = nn.Linear(16 * 5 * 5, 120)\n",
    "        self.fc2 = nn.Linear(120, 84)\n",
    "        self.fc3 = nn.Linear(84, 10)\n",
    "\n",
    "    def forward(self, x):\n",
    "        x = self.pool(F.relu(self.conv1(x)))\n",
    "        x = self.pool(F.relu(self.conv2(x)))\n",
    "        x = torch.flatten(x, 1) # flatten all dimensions except batch\n",
    "        x = F.relu(self.fc1(x))\n",
    "        x = F.relu(self.fc2(x))\n",
    "        x = self.fc3(x)\n",
    "        return x\n",
    "\n",
    "\n",
    "net = Net()"
   ]
  },
  {
   "cell_type": "markdown",
   "metadata": {
    "id": "tvpOq5tA-_nN"
   },
   "source": [
    "Defining the loss function and appropriate optimiser (SGD)"
   ]
  },
  {
   "cell_type": "code",
   "execution_count": null,
   "metadata": {
    "id": "pkW9AK0Ye_w8"
   },
   "outputs": [],
   "source": [
    "import torch.optim as optim\n",
    "\n",
    "criterion = nn.CrossEntropyLoss()\n",
    "optimizer = optim.SGD(net.parameters(), lr=0.001, momentum=0.9)"
   ]
  },
  {
   "cell_type": "markdown",
   "metadata": {
    "id": "uAFb-Pes_I1B"
   },
   "source": [
    "Running the epochs onto the input training data"
   ]
  },
  {
   "cell_type": "code",
   "execution_count": null,
   "metadata": {
    "colab": {
     "base_uri": "https://localhost:8080/"
    },
    "executionInfo": {
     "elapsed": 104166,
     "status": "ok",
     "timestamp": 1659602533636,
     "user": {
      "displayName": "Sohaib Ahmad",
      "userId": "11976602630283017502"
     },
     "user_tz": -300
    },
    "id": "fAkrDZnCfEtm",
    "outputId": "0b400292-4feb-4f97-84c0-d98079d5187f"
   },
   "outputs": [
    {
     "name": "stdout",
     "output_type": "stream",
     "text": [
      "[1,  2000] loss: 2.186\n",
      "[1,  4000] loss: 1.880\n",
      "[1,  6000] loss: 1.664\n",
      "[1,  8000] loss: 1.569\n",
      "[1, 10000] loss: 1.514\n",
      "[1, 12000] loss: 1.462\n",
      "[2,  2000] loss: 1.397\n",
      "[2,  4000] loss: 1.402\n",
      "[2,  6000] loss: 1.359\n",
      "[2,  8000] loss: 1.325\n",
      "[2, 10000] loss: 1.314\n",
      "[2, 12000] loss: 1.299\n",
      "Finished Training\n"
     ]
    }
   ],
   "source": [
    "for epoch in range(2):  # loop over the dataset multiple times\n",
    "\n",
    "    running_loss = 0.0\n",
    "    for i, data in enumerate(trainloader, 0):\n",
    "        # get the inputs; data is a list of [inputs, labels]\n",
    "        inputs, labels = data\n",
    "\n",
    "        # zero the parameter gradients\n",
    "        optimizer.zero_grad()\n",
    "\n",
    "        # forward + backward + optimize\n",
    "        outputs = net(inputs)\n",
    "        loss = criterion(outputs, labels)\n",
    "        loss.backward()\n",
    "        optimizer.step()\n",
    "\n",
    "        # print statistics\n",
    "        running_loss += loss.item()\n",
    "        if i % 2000 == 1999:    # print every 2000 mini-batches\n",
    "            print(f'[{epoch + 1}, {i + 1:5d}] loss: {running_loss / 2000:.3f}')\n",
    "            running_loss = 0.0\n",
    "\n",
    "print('Finished Training')"
   ]
  },
  {
   "cell_type": "markdown",
   "metadata": {
    "id": "56GQ06fx_R0t"
   },
   "source": [
    "Saving the model of that neural network"
   ]
  },
  {
   "cell_type": "code",
   "execution_count": null,
   "metadata": {
    "id": "SXNpMAmjfJf6"
   },
   "outputs": [],
   "source": [
    "PATH = './cifar_net.pth'\n",
    "torch.save(net.state_dict(), PATH)"
   ]
  },
  {
   "cell_type": "markdown",
   "metadata": {
    "id": "5VFOBeSv_YY4"
   },
   "source": [
    "Predicting the labels of images with that model"
   ]
  },
  {
   "cell_type": "code",
   "execution_count": null,
   "metadata": {
    "colab": {
     "base_uri": "https://localhost:8080/",
     "height": 155
    },
    "executionInfo": {
     "elapsed": 26,
     "status": "ok",
     "timestamp": 1659602533640,
     "user": {
      "displayName": "Sohaib Ahmad",
      "userId": "11976602630283017502"
     },
     "user_tz": -300
    },
    "id": "dTDULWBHfV67",
    "outputId": "32303a2c-8b87-49b9-fc91-10b6b3b519ed"
   },
   "outputs": [
    {
     "data": {
      "image/png": "[encoded data removed]",
      "text/plain": [
       "<Figure size 432x288 with 1 Axes>"
      ]
     },
     "metadata": {
      "needs_background": "light"
     },
     "output_type": "display_data"
    },
    {
     "name": "stdout",
     "output_type": "stream",
     "text": [
      "GroundTruth:  cat   ship  ship  plane\n"
     ]
    }
   ],
   "source": [
    "dataiter = iter(testloader)\n",
    "images, labels = dataiter.next()\n",
    "\n",
    "# print images\n",
    "imshow(torchvision.utils.make_grid(images))\n",
    "print('GroundTruth: ', ' '.join(f'{classes[labels[j]]:5s}' for j in range(4)))"
   ]
  },
  {
   "cell_type": "markdown",
   "metadata": {
    "id": "h2Q8A51H_knq"
   },
   "source": [
    "Using that saved model and testing it on 10000 images from test data and we have gotten the accuracy on test data"
   ]
  },
  {
   "cell_type": "code",
   "execution_count": null,
   "metadata": {
    "colab": {
     "base_uri": "https://localhost:8080/"
    },
    "executionInfo": {
     "elapsed": 6681,
     "status": "ok",
     "timestamp": 1659602540299,
     "user": {
      "displayName": "Sohaib Ahmad",
      "userId": "11976602630283017502"
     },
     "user_tz": -300
    },
    "id": "n2vF1X1BfdM2",
    "outputId": "161fc264-f4b5-4125-d7d7-7cb773216b1d"
   },
   "outputs": [
    {
     "name": "stdout",
     "output_type": "stream",
     "text": [
      "Accuracy of the network on the 10000 test images: 54 %\n"
     ]
    }
   ],
   "source": [
    "correct = 0\n",
    "total = 0\n",
    "# since we're not training, we don't need to calculate the gradients for our outputs\n",
    "with torch.no_grad():\n",
    "    for data in testloader:\n",
    "        images, labels = data\n",
    "        # calculate outputs by running images through the network\n",
    "        outputs = net(images)\n",
    "        # the class with the highest energy is what we choose as prediction\n",
    "        _, predicted = torch.max(outputs.data, 1)\n",
    "        total += labels.size(0)\n",
    "        correct += (predicted == labels).sum().item()\n",
    "\n",
    "print(f'Accuracy of the network on the 10000 test images: {100 * correct // total} %')"
   ]
  },
  {
   "cell_type": "markdown",
   "metadata": {
    "id": "pJ_A-qrU_yeM"
   },
   "source": [
    "Accuracy of individual test classes of the data"
   ]
  },
  {
   "cell_type": "code",
   "execution_count": null,
   "metadata": {
    "colab": {
     "base_uri": "https://localhost:8080/"
    },
    "executionInfo": {
     "elapsed": 7135,
     "status": "ok",
     "timestamp": 1659602547429,
     "user": {
      "displayName": "Sohaib Ahmad",
      "userId": "11976602630283017502"
     },
     "user_tz": -300
    },
    "id": "olr2kmg8fgO2",
    "outputId": "9d7cf991-de4f-48db-bfe2-cfa3e250b240"
   },
   "outputs": [
    {
     "name": "stdout",
     "output_type": "stream",
     "text": [
      "Accuracy for class: plane is 52.0 %\n",
      "Accuracy for class: car   is 68.6 %\n",
      "Accuracy for class: bird  is 41.6 %\n",
      "Accuracy for class: cat   is 54.4 %\n",
      "Accuracy for class: deer  is 43.6 %\n",
      "Accuracy for class: dog   is 49.0 %\n",
      "Accuracy for class: frog  is 57.3 %\n",
      "Accuracy for class: horse is 55.8 %\n",
      "Accuracy for class: ship  is 75.4 %\n",
      "Accuracy for class: truck is 48.4 %\n"
     ]
    }
   ],
   "source": [
    "# prepare to count predictions for each class\n",
    "correct_pred = {classname: 0 for classname in classes}\n",
    "total_pred = {classname: 0 for classname in classes}\n",
    "\n",
    "# again no gradients needed\n",
    "with torch.no_grad():\n",
    "    for data in testloader:\n",
    "        images, labels = data\n",
    "        outputs = net(images)\n",
    "        _, predictions = torch.max(outputs, 1)\n",
    "        # collect the correct predictions for each class\n",
    "        for label, prediction in zip(labels, predictions):\n",
    "            if label == prediction:\n",
    "                correct_pred[classes[label]] += 1\n",
    "            total_pred[classes[label]] += 1\n",
    "\n",
    "\n",
    "# print accuracy for each class\n",
    "for classname, correct_count in correct_pred.items():\n",
    "    accuracy = 100 * float(correct_count) / total_pred[classname]\n",
    "    print(f'Accuracy for class: {classname:5s} is {accuracy:.1f} %')"
   ]
  }
 ],
 "metadata": {
  "accelerator": "GPU",
  "colab": {
   "collapsed_sections": [],
   "name": "Copy of Task3andTask4.ipynb",
   "provenance": [
    {
     "file_id": "1lhQC-B-qrunKiVML85nTNyST2q47GeYJ",
     "timestamp": 1660153444359
    }
   ]
  },
  "gpuClass": "standard",
  "kernelspec": {
   "display_name": "Python 3",
   "language": "python",
   "name": "python3"
  },
  "language_info": {
   "codemirror_mode": {
    "name": "ipython",
    "version": 3
   },
   "file_extension": ".py",
   "mimetype": "text/x-python",
   "name": "python",
   "nbconvert_exporter": "python",
   "pygments_lexer": "ipython3",
   "version": "3.8.3"
  },
  "widgets": {
   "application/vnd.jupyter.widget-state+json": {
    "08e4ba8d979543aea22af2ce0b1e67d6": {
     "model_module": "@jupyter-widgets/base",
     "model_module_version": "1.2.0",
     "model_name": "LayoutModel",
     "state": {
      "_model_module": "@jupyter-widgets/base",
      "_model_module_version": "1.2.0",
      "_model_name": "LayoutModel",
      "_view_count": null,
      "_view_module": "@jupyter-widgets/base",
      "_view_module_version": "1.2.0",
      "_view_name": "LayoutView",
      "align_content": null,
      "align_items": null,
      "align_self": null,
      "border": null,
      "bottom": null,
      "display": null,
      "flex": null,
      "flex_flow": null,
      "grid_area": null,
      "grid_auto_columns": null,
      "grid_auto_flow": null,
      "grid_auto_rows": null,
      "grid_column": null,
      "grid_gap": null,
      "grid_row": null,
      "grid_template_areas": null,
      "grid_template_columns": null,
      "grid_template_rows": null,
      "height": null,
      "justify_content": null,
      "justify_items": null,
      "left": null,
      "margin": null,
      "max_height": null,
      "max_width": null,
      "min_height": null,
      "min_width": null,
      "object_fit": null,
      "object_position": null,
      "order": null,
      "overflow": null,
      "overflow_x": null,
      "overflow_y": null,
      "padding": null,
      "right": null,
      "top": null,
      "visibility": null,
      "width": null
     }
    },
    "1965abe871294a0c81cdab6a7e9b76b6": {
     "model_module": "@jupyter-widgets/base",
     "model_module_version": "1.2.0",
     "model_name": "LayoutModel",
     "state": {
      "_model_module": "@jupyter-widgets/base",
      "_model_module_version": "1.2.0",
      "_model_name": "LayoutModel",
      "_view_count": null,
      "_view_module": "@jupyter-widgets/base",
      "_view_module_version": "1.2.0",
      "_view_name": "LayoutView",
      "align_content": null,
      "align_items": null,
      "align_self": null,
      "border": null,
      "bottom": null,
      "display": null,
      "flex": null,
      "flex_flow": null,
      "grid_area": null,
      "grid_auto_columns": null,
      "grid_auto_flow": null,
      "grid_auto_rows": null,
      "grid_column": null,
      "grid_gap": null,
      "grid_row": null,
      "grid_template_areas": null,
      "grid_template_columns": null,
      "grid_template_rows": null,
      "height": null,
      "justify_content": null,
      "justify_items": null,
      "left": null,
      "margin": null,
      "max_height": null,
      "max_width": null,
      "min_height": null,
      "min_width": null,
      "object_fit": null,
      "object_position": null,
      "order": null,
      "overflow": null,
      "overflow_x": null,
      "overflow_y": null,
      "padding": null,
      "right": null,
      "top": null,
      "visibility": null,
      "width": null
     }
    },
    "2c7536934c5d4c48bc0163035f70a4fa": {
     "model_module": "@jupyter-widgets/controls",
     "model_module_version": "1.5.0",
     "model_name": "DescriptionStyleModel",
     "state": {
      "_model_module": "@jupyter-widgets/controls",
      "_model_module_version": "1.5.0",
      "_model_name": "DescriptionStyleModel",
      "_view_count": null,
      "_view_module": "@jupyter-widgets/base",
      "_view_module_version": "1.2.0",
      "_view_name": "StyleView",
      "description_width": ""
     }
    },
    "8a54aca6a7d44b08a540c52d258fbfc6": {
     "model_module": "@jupyter-widgets/controls",
     "model_module_version": "1.5.0",
     "model_name": "HTMLModel",
     "state": {
      "_dom_classes": [],
      "_model_module": "@jupyter-widgets/controls",
      "_model_module_version": "1.5.0",
      "_model_name": "HTMLModel",
      "_view_count": null,
      "_view_module": "@jupyter-widgets/controls",
      "_view_module_version": "1.5.0",
      "_view_name": "HTMLView",
      "description": "",
      "description_tooltip": null,
      "layout": "IPY_MODEL_1965abe871294a0c81cdab6a7e9b76b6",
      "placeholder": "​",
      "style": "IPY_MODEL_c58a125166154ec48cc9ead4a201a759",
      "value": "100%"
     }
    },
    "956bc957f52047659c76cf4d8d5e575c": {
     "model_module": "@jupyter-widgets/controls",
     "model_module_version": "1.5.0",
     "model_name": "HTMLModel",
     "state": {
      "_dom_classes": [],
      "_model_module": "@jupyter-widgets/controls",
      "_model_module_version": "1.5.0",
      "_model_name": "HTMLModel",
      "_view_count": null,
      "_view_module": "@jupyter-widgets/controls",
      "_view_module_version": "1.5.0",
      "_view_name": "HTMLView",
      "description": "",
      "description_tooltip": null,
      "layout": "IPY_MODEL_08e4ba8d979543aea22af2ce0b1e67d6",
      "placeholder": "​",
      "style": "IPY_MODEL_2c7536934c5d4c48bc0163035f70a4fa",
      "value": " 170498071/170498071 [00:13&lt;00:00, 16047822.31it/s]"
     }
    },
    "9582fed719ca4944ad53446c69026970": {
     "model_module": "@jupyter-widgets/controls",
     "model_module_version": "1.5.0",
     "model_name": "FloatProgressModel",
     "state": {
      "_dom_classes": [],
      "_model_module": "@jupyter-widgets/controls",
      "_model_module_version": "1.5.0",
      "_model_name": "FloatProgressModel",
      "_view_count": null,
      "_view_module": "@jupyter-widgets/controls",
      "_view_module_version": "1.5.0",
      "_view_name": "ProgressView",
      "bar_style": "success",
      "description": "",
      "description_tooltip": null,
      "layout": "IPY_MODEL_a5fb312348d849cd8ee6f32281d794c4",
      "max": 170498071,
      "min": 0,
      "orientation": "horizontal",
      "style": "IPY_MODEL_ce9504426c374ea8bbc1c697bee49532",
      "value": 170498071
     }
    },
    "a5fb312348d849cd8ee6f32281d794c4": {
     "model_module": "@jupyter-widgets/base",
     "model_module_version": "1.2.0",
     "model_name": "LayoutModel",
     "state": {
      "_model_module": "@jupyter-widgets/base",
      "_model_module_version": "1.2.0",
      "_model_name": "LayoutModel",
      "_view_count": null,
      "_view_module": "@jupyter-widgets/base",
      "_view_module_version": "1.2.0",
      "_view_name": "LayoutView",
      "align_content": null,
      "align_items": null,
      "align_self": null,
      "border": null,
      "bottom": null,
      "display": null,
      "flex": null,
      "flex_flow": null,
      "grid_area": null,
      "grid_auto_columns": null,
      "grid_auto_flow": null,
      "grid_auto_rows": null,
      "grid_column": null,
      "grid_gap": null,
      "grid_row": null,
      "grid_template_areas": null,
      "grid_template_columns": null,
      "grid_template_rows": null,
      "height": null,
      "justify_content": null,
      "justify_items": null,
      "left": null,
      "margin": null,
      "max_height": null,
      "max_width": null,
      "min_height": null,
      "min_width": null,
      "object_fit": null,
      "object_position": null,
      "order": null,
      "overflow": null,
      "overflow_x": null,
      "overflow_y": null,
      "padding": null,
      "right": null,
      "top": null,
      "visibility": null,
      "width": null
     }
    },
    "c58a125166154ec48cc9ead4a201a759": {
     "model_module": "@jupyter-widgets/controls",
     "model_module_version": "1.5.0",
     "model_name": "DescriptionStyleModel",
     "state": {
      "_model_module": "@jupyter-widgets/controls",
      "_model_module_version": "1.5.0",
      "_model_name": "DescriptionStyleModel",
      "_view_count": null,
      "_view_module": "@jupyter-widgets/base",
      "_view_module_version": "1.2.0",
      "_view_name": "StyleView",
      "description_width": ""
     }
    },
    "ce9504426c374ea8bbc1c697bee49532": {
     "model_module": "@jupyter-widgets/controls",
     "model_module_version": "1.5.0",
     "model_name": "ProgressStyleModel",
     "state": {
      "_model_module": "@jupyter-widgets/controls",
      "_model_module_version": "1.5.0",
      "_model_name": "ProgressStyleModel",
      "_view_count": null,
      "_view_module": "@jupyter-widgets/base",
      "_view_module_version": "1.2.0",
      "_view_name": "StyleView",
      "bar_color": null,
      "description_width": ""
     }
    },
    "d1e4d3ae1d624a138be2c8c8dbc6b63d": {
     "model_module": "@jupyter-widgets/base",
     "model_module_version": "1.2.0",
     "model_name": "LayoutModel",
     "state": {
      "_model_module": "@jupyter-widgets/base",
      "_model_module_version": "1.2.0",
      "_model_name": "LayoutModel",
      "_view_count": null,
      "_view_module": "@jupyter-widgets/base",
      "_view_module_version": "1.2.0",
      "_view_name": "LayoutView",
      "align_content": null,
      "align_items": null,
      "align_self": null,
      "border": null,
      "bottom": null,
      "display": null,
      "flex": null,
      "flex_flow": null,
      "grid_area": null,
      "grid_auto_columns": null,
      "grid_auto_flow": null,
      "grid_auto_rows": null,
      "grid_column": null,
      "grid_gap": null,
      "grid_row": null,
      "grid_template_areas": null,
      "grid_template_columns": null,
      "grid_template_rows": null,
      "height": null,
      "justify_content": null,
      "justify_items": null,
      "left": null,
      "margin": null,
      "max_height": null,
      "max_width": null,
      "min_height": null,
      "min_width": null,
      "object_fit": null,
      "object_position": null,
      "order": null,
      "overflow": null,
      "overflow_x": null,
      "overflow_y": null,
      "padding": null,
      "right": null,
      "top": null,
      "visibility": null,
      "width": null
     }
    },
    "f6d8815358b140ddbeaac182130d0c33": {
     "model_module": "@jupyter-widgets/controls",
     "model_module_version": "1.5.0",
     "model_name": "HBoxModel",
     "state": {
      "_dom_classes": [],
      "_model_module": "@jupyter-widgets/controls",
      "_model_module_version": "1.5.0",
      "_model_name": "HBoxModel",
      "_view_count": null,
      "_view_module": "@jupyter-widgets/controls",
      "_view_module_version": "1.5.0",
      "_view_name": "HBoxView",
      "box_style": "",
      "children": [
       "IPY_MODEL_8a54aca6a7d44b08a540c52d258fbfc6",
       "IPY_MODEL_9582fed719ca4944ad53446c69026970",
       "IPY_MODEL_956bc957f52047659c76cf4d8d5e575c"
      ],
      "layout": "IPY_MODEL_d1e4d3ae1d624a138be2c8c8dbc6b63d"
     }
    }
   }
  }
 },
 "nbformat": 4,
 "nbformat_minor": 1
}
